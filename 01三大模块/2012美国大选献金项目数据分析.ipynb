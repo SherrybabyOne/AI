{
 "cells": [
  {
   "cell_type": "code",
   "execution_count": 16,
   "metadata": {},
   "outputs": [],
   "source": [
    "import numpy as np\n",
    "import pandas as pd\n",
    "\n",
    "#方便大家操作，将月份和参选人以及所在政党进行定义：\n",
    "months = {'JAN' : 1, 'FEB' : 2, 'MAR' : 3, 'APR' : 4, 'MAY' : 5, 'JUN' : 6,\n",
    "          'JUL' : 7, 'AUG' : 8, 'SEP' : 9, 'OCT': 10, 'NOV': 11, 'DEC' : 12}\n",
    "of_interest = ['Obama, Barack', 'Romney, Mitt', 'Santorum, Rick', \n",
    "               'Paul, Ron', 'Gingrich, Newt']\n",
    "parties = {\n",
    "  'Bachmann, Michelle': 'Republican',\n",
    "  'Romney, Mitt': 'Republican',\n",
    "  'Obama, Barack': 'Democrat',\n",
    "  \"Roemer, Charles E. 'Buddy' III\": 'Reform',\n",
    "  'Pawlenty, Timothy': 'Republican',\n",
    "  'Johnson, Gary Earl': 'Libertarian',\n",
    "  'Paul, Ron': 'Republican',\n",
    "  'Santorum, Rick': 'Republican',\n",
    "  'Cain, Herman': 'Republican',\n",
    "  'Gingrich, Newt': 'Republican',\n",
    "  'McCotter, Thaddeus G': 'Republican',\n",
    "  'Huntsman, Jon': 'Republican',\n",
    "  'Perry, Rick': 'Republican'           \n",
    " }"
   ]
  },
  {
   "cell_type": "markdown",
   "metadata": {},
   "source": [
    "### 需求\n",
    "- 加载数据\n",
    "- 查看数据的基本信息\n",
    "- 指定数据截取，将如下字段的数据进行提取，其他数据舍弃\n",
    "    - cand_nm ：候选人姓名\n",
    "    - contbr_nm ： 捐赠人姓名\n",
    "    - contbr_st ：捐赠人所在州\n",
    "    - contbr_employer ： 捐赠人所在公司\n",
    "    - contbr_occupation ： 捐赠人职业\n",
    "    - contb_receipt_amt ：捐赠数额（美元）\n",
    "    - contb_receipt_dt ： 捐款的日期\n",
    "- 对新数据进行总览,查看是否存在缺失数据\n",
    "- 用统计学指标快速描述数值型属性的概要。\n",
    "- 空值处理。可能因为忘记填写或者保密等等原因，相关字段出现了空值，将其填充为NOT PROVIDE\n",
    "- 异常值处理。将捐款金额<=0的数据删除\n",
    "- 新建一列为各个候选人所在党派party\n",
    "- 查看party这一列中有哪些不同的元素\n",
    "- 统计party列中各个元素出现次数\n",
    "- 查看各个党派收到的政治献金总数contb_receipt_amt\n",
    "- 查看具体每天各个党派收到的政治献金总数contb_receipt_amt\n",
    "- 将表中日期格式转换为'yyyy-mm-dd'。\n",
    "- 查看老兵(捐献者职业)DISABLED VETERAN主要支持谁\n"
   ]
  }
 ],
 "metadata": {
  "kernelspec": {
   "display_name": "Python 3",
   "language": "python",
   "name": "python3"
  },
  "language_info": {
   "codemirror_mode": {
    "name": "ipython",
    "version": 3
   },
   "file_extension": ".py",
   "mimetype": "text/x-python",
   "name": "python",
   "nbconvert_exporter": "python",
   "pygments_lexer": "ipython3",
   "version": "3.7.1"
  }
 },
 "nbformat": 4,
 "nbformat_minor": 2
}
