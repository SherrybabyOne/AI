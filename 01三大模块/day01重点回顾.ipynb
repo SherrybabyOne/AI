{
 "cells": [
  {
   "cell_type": "markdown",
   "metadata": {},
   "source": [
    "- numpy模块\n",
    "    - 介绍：就是一个容器（数据结构），用来装载和存储数值型数据，且可以对数值型的数据进行很多不同形式的操作和运算。可将numpy视为是一个一维或者多维的数组。\n",
    "    - numpy数组的创建方式：\n",
    "        - np.array()\n",
    "        - np.linspace()\n",
    "        - np.random.xxx()\n",
    "        - plt.imread()\n",
    "    - 数组的索引和切片操作\n",
    "        - 索引：\n",
    "            - arr[index]:取行\n",
    "            - arr[index,col]:取元素\n",
    "        - 切片：\n",
    "            - arr[index1:index3]:切行\n",
    "            - arr[:,col1:col3]:切列\n",
    "            - arr[::-1]:行倒置\n",
    "            - arr[:,::-1]:列倒置\n",
    "    - 变形：reshape()\n",
    "        - 可以将不同维度的数组变形成其他维度的数组\n",
    "            - 注意：变形前和变形后的数组容量要保持一致\n",
    "    - 级联：concatnate()\n",
    "        - 可以将多个数组进行横向或者纵向的拼接\n",
    "    - 常用的相关方法：\n",
    "        - mean(),max(),sum(),median(),std(),var()\n",
    "    - 基于矩阵的操作\n",
    "        - 矩阵的转置：.T\n",
    "        - 矩阵的乘法\n",
    "            - 如果一个行向量乘以自身的转置等于一个常数"
   ]
  },
  {
   "cell_type": "markdown",
   "metadata": {},
   "source": [
    "- pandas模块：主要用来存储和运算非数值型的数据\n",
    "    - Series：就是一个类似于一维的数据结构（容器）\n",
    "        - 重要方法：\n",
    "            - isnull，notnull：用来判定元素值是否为空\n",
    "            - unique（）：对Series元素进行去重\n",
    "            - nunique():统计去重之后的元素个数\n",
    "    - DataFrame：是一个表格型的数据结构\n",
    "        - 创建方式\n",
    "        - 索引和切片操作\n",
    "            - 索引：\n",
    "                - df['col']:索引取列\n",
    "                - df.iloc[index]：索引取行\n",
    "                - df.iloc[index,col]:索引取元素\n",
    "            - 切片：\n",
    "                - df[index1:index3]:切行\n",
    "                - df.iloc[:,col1:col3]:切列\n",
    "        - 时间序列的转换：\n",
    "            - pd.to_datetime(df[col])\n",
    "        - 设置行索引\n",
    "            - df.set_index(col):将col列作为原始数据df的行索引\n",
    "        - 持久化存储：\n",
    "            - df.to_xxx():将df写入存储到指定的文件中\n",
    "        - 加载数据\n",
    "            - pd.read_xxx():可以将外部文件的数据读取加载到df\n",
    "        - resample(rule):数据的重新取样，rule就是取样的条件\n",
    "        - shift(1 or -1):将Series的元素整体上下移动一位\n",
    "- 数据清洗\n",
    "    - 清洗空值（缺失值）\n",
    "        - 将空值对应行数据删除：dropna\n",
    "        - 使用值对空值进行填充：fillna\n",
    "            - 近邻值填充\n",
    "            - 均值，中位数填充\n",
    "            - 任意值填充\n",
    "    - 清洗重复值\n",
    "        - 将重复的行数据进行删除：drop_duplicated()\n",
    "    - 清洗异常值\n",
    "        - 首先要有一个判定异常值的条件\n",
    "        - 根据条件进行相关异常数据的清洗操作"
   ]
  },
  {
   "cell_type": "code",
   "execution_count": null,
   "metadata": {},
   "outputs": [],
   "source": []
  }
 ],
 "metadata": {
  "kernelspec": {
   "display_name": "Python 3",
   "language": "python",
   "name": "python3"
  },
  "language_info": {
   "codemirror_mode": {
    "name": "ipython",
    "version": 3
   },
   "file_extension": ".py",
   "mimetype": "text/x-python",
   "name": "python",
   "nbconvert_exporter": "python",
   "pygments_lexer": "ipython3",
   "version": "3.8.3"
  }
 },
 "nbformat": 4,
 "nbformat_minor": 2
}
